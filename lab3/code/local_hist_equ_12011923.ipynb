{
 "cells": [
  {
   "cell_type": "code",
   "execution_count": null,
   "id": "9528904e",
   "metadata": {},
   "outputs": [
    {
     "name": "stdout",
     "output_type": "stream",
     "text": [
      "(512, 512)\n"
     ]
    }
   ],
   "source": [
    "import cv2\n",
    "import numpy as np\n",
    "import matplotlib.pyplot as plt\n",
    "from PIL import Image\n",
    "    \n",
    "def local_hist_equ_12011923(input_image,m_size):\n",
    "    H,W=input_image.shape\n",
    "    total=H*W*1\n",
    "\n",
    "    output_image=np.zeros([H,W],dtype=np.uint8)\n",
    "    input_hist=[]\n",
    "    output_hist=[]\n",
    "    \n",
    "    #input_histogram\n",
    "    for i in range(256):\n",
    "        input_hist.append(np.sum(input_image==i)/(total))\n",
    "        \n",
    "    #往四周补0\n",
    "    padimage=np.pad(input_image,((int((m_size-1)/2),int((m_size-1)/2)),(int((m_size-1)/2),int((m_size-1)/2))),'constant',constant_values=(0,0))\n",
    "    #local histogram processing\n",
    "    for i in range(int((m_size-1)/2),input_image.shape[0]+int((m_size-1)/2)):\n",
    "        for j in range(int((m_size-1)/2),input_image.shape[1]+int((m_size-1)/2)):\n",
    "            partimage=padimage[i-int((m_size-1)/2):i+int((m_size-1)/2)+1,j-int((m_size-1)/2):j+int((m_size-1)/2)+1]\n",
    "            part_hist=np.zeros(256)\n",
    "            for m in range(partimage.shape[0]):\n",
    "                for n in range(partimage.shape[1]):\n",
    "                    part_hist[partimage[m][n]]=part_hist[partimage[m][n]]+1\n",
    "            \n",
    "            r_s=np.cumsum(part_hist[:partimage[int((m_size-1)/2),int((m_size-1)/2)]+1])/(m_size*m_size)\n",
    "            output_image[i-int((m_size-1)/2),j-int((m_size-1)/2)]=int(round(255*r_s[partimage[int((m_size-1)/2),int((m_size-1)/2)]]))\n",
    "            \n",
    "        \n",
    "    #output_histogram\n",
    "    for i in range(256):\n",
    "        output_hist.append(np.sum(output_image==i)/(total))\n",
    "    \n",
    "    return (output_image,output_hist,input_hist)\n",
    "\n",
    "\n",
    "\n",
    "img=cv2.imread('Q3_3.tif',cv2.IMREAD_GRAYSCALE)\n",
    "cv2.imshow('Q3_3',img)\n",
    "cv2.waitKey(0)\n",
    "print(img.shape)\n",
    "\n",
    "x=np.arange(256)\n",
    "\n",
    "(out,output_hist,input_hist)=local_hist_equ_12011923(img,3)\n",
    "\n",
    "plt.imshow(out,cmap=plt.cm.gray)\n",
    "plt.show()\n",
    "savedimage1=Image.fromarray(out)\n",
    "savedimage1.save('Q3_3_local_hist_equ_12011923.tif')\n",
    "savedimage1.save('Q3_3_local_hist_equ_12011923.png')\n",
    "print(out.shape)\n",
    "\n",
    "plt.subplot(2, 1, 1)\n",
    "plt.bar(x,input_hist)\n",
    "plt.title('histogram equalization of input image')\n",
    "plt.subplot(2, 1, 2)\n",
    "plt.bar(x,output_hist)\n",
    "plt.title('histogram equalization of output image')\n",
    "plt.close"
   ]
  }
 ],
 "metadata": {
  "kernelspec": {
   "display_name": "dip",
   "language": "python",
   "name": "dip"
  },
  "language_info": {
   "codemirror_mode": {
    "name": "ipython",
    "version": 3
   },
   "file_extension": ".py",
   "mimetype": "text/x-python",
   "name": "python",
   "nbconvert_exporter": "python",
   "pygments_lexer": "ipython3",
   "version": "3.8.16"
  }
 },
 "nbformat": 4,
 "nbformat_minor": 5
}
